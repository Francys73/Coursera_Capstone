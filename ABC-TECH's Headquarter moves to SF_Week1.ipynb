{
    "cells": [
        {
            "metadata": {},
            "cell_type": "markdown",
            "source": "## Applied Data Science Capstone\n\n## Capstone Project - The Battle of Neighborhoods\n\n### IBM Data Science Professional \u2013 Coursera\n\n### By: Niorys Francys Salazar\n###           July 2021"
        },
        {
            "metadata": {},
            "cell_type": "markdown",
            "source": "## <font color=blue> ABC-TECH's Headquarter moves to San Francisco "
        },
        {
            "metadata": {},
            "cell_type": "markdown",
            "source": "<img src=https://mabusinessadvisors.com/sanfrancisco/wp-content/uploads/sites/40/2019/01/san-fran-1.jpg>"
        },
        {
            "metadata": {},
            "cell_type": "markdown",
            "source": "## 1. Introduction / Business Problem\n\n### The company ABC-TECH plans to move the Corporate headquarter to San Francisco (California), and for this it requires an analysis of the financial and residential areas of this city. The objective of this project is to determine the best possible location to move the offices for 150 employees.\n\n### There are many key factors that can determine the best new location, regardless of Geography, but in this Project, we will consider as the most important:\n   \n###    1. Citizen Security, which areas within the new city are safer in terms of crime cases, robberies and crimes and more guarded by local security entities.\n\n###    2. The Labor market, in which areas of the new city there are the largest and smallest volume of companies in the technology sector and how we can exploit and offer technological support services in a high demand for less-served areas.\n    \n###    3. Environment in the community, this is to segment the areas chosen as the best possible locations (TOP 10 Neighborhoods) and explore within a radius of 500 meters that it offers us in terms of citizen, cultural and entertainment quality.\n\u00b6"
        },
        {
            "metadata": {},
            "cell_type": "markdown",
            "source": "## Stakeholders: \n### *  The Owners of the Company ABC-TECH\n### *   Employees of the Company ABC-TECH\n### *   Tecnologies Companies in the area\n### *\tAnyone who wants to move to San Francisco\n"
        },
        {
            "metadata": {},
            "cell_type": "markdown",
            "source": "## 2. Data\n\n### According to the problem, we will need the following data:\n\n### *\tFinding the neighborhoods in San Francisco City and geographic locations\n### *\tFinding the safest neighborhoods in San Francisco based on crime statistics\n### *\tFinding the registered technologies companies in the San Francisco City\n### *\tFinding the Top Ten neighborhoods within the city which determine the best new location \n\n### Following data sources will be needed to extract, load, and transform the required information:\n\n### 2.1. San Francisco Analysis Neighborhoods \n#### Source: https://data.sfgov.org/d/bwbp-wk3r\n#### https://data.sfgov.org/api/views/xfcw9evu/rows.csv?accessType=DOWNLOAD&bom=true&format=true\n\n#### The Department of Public Health and the Mayor\u2019s Office of Housing and Community Development (MOHCD), with support from the Planning Department, created these 41 neighborhoods by grouping 2010 Census tracts, using common real estate and residents\u2019 definitions for the purpose of providing consistency in the analysis and reporting of socio-economic, demographic, and environmental data, and data on City-funded programs and services. This dataset is produced by assigning Census tracts to neighborhoods based on existing neighborhood definitions used by Planning and MOHCD\n\n### 2.2. San Francisco Crime Incident Report\n### Source: https://data.sfgov.org/d/wg3w-h783\n### https://data.sfgov.org/api/views/wg3wh783/rows.csv?accessType=DOWNLOAD&bom=true&format=true\n\n#### This dataset includes incident reports that have been filed as of January 1, 2018 to present (Data Last Updated July 10, 2021). These reports are filed by officers or self-reported by members of the public using SFPD\u2019s online reporting system.  The reports are categorized into the following groups based on how the report was received and the type of incident:\n\n### * Initial Reports: the first report filed for an incident.\n### * Cop-logic Reports: incident reports filed by members of the public using SFPD\u2019s online reporting system\n### * Vehicle Reports: any incident reports related to stolen and/or recovered vehicles.\n\n### 2.3. Registered Business Locations - San Francisco\n### Source: https://support.datasf.org/help/registered-business-faqs\n### https://data.sfgov.org/api/views/g8m3pdis/rows.csv?accessType=DOWNLOAD&bom=true&format=true\n\n#### This dataset includes the locations of businesses that pay taxes to the City and County of San Francisco. Each registered business may have multiple locations and each location is a single row. The Treasurer & Tax Collector\u2019s Office collects this data through business registration applications, account update/closure forms, and taxpayer filings. The data is collected to help enforce the Business and Tax Regulations Code.\n\n\n### We will use to download the data the method to read a CSV file in a Pandas DataFrame, then cleaning and manipulating the data to obtain the data frame with the results that solve the initial problem. For this we will use all the codes and commands learned on the to prepare the data, such as REINDEX, REPLACE, RENAME, RESET, SPLIT, GROUPBY, DROP, DROPNA, SORT, MERGE and, so on.\n"
        }
    ],
    "metadata": {
        "kernelspec": {
            "name": "python3",
            "display_name": "Python 3.7",
            "language": "python"
        },
        "language_info": {
            "name": "python",
            "version": "3.7.10",
            "mimetype": "text/x-python",
            "codemirror_mode": {
                "name": "ipython",
                "version": 3
            },
            "pygments_lexer": "ipython3",
            "nbconvert_exporter": "python",
            "file_extension": ".py"
        }
    },
    "nbformat": 4,
    "nbformat_minor": 1
}